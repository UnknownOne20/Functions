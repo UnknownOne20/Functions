{
  "nbformat": 4,
  "nbformat_minor": 0,
  "metadata": {
    "colab": {
      "provenance": []
    },
    "kernelspec": {
      "name": "python3",
      "display_name": "Python 3"
    },
    "language_info": {
      "name": "python"
    }
  },
  "cells": [
    {
      "cell_type": "markdown",
      "metadata": {
        "id": "FgLXKCYbV22X"
      },
      "source": [
        "# Calculating Average of Numbers Using Functions"
      ]
    },
    {
      "cell_type": "code",
      "execution_count": 10,
      "metadata": {
        "colab": {
          "base_uri": "https://localhost:8080/"
        },
        "id": "3WdBqKyi0hB2",
        "outputId": "3919c7cf-943a-418b-d572-535d885f9f8e"
      },
      "outputs": [
        {
          "output_type": "stream",
          "name": "stdout",
          "text": [
            "The average =  5.5\n"
          ]
        }
      ],
      "source": [
        "def calc_avg(nums):\n",
        "  sum=0\n",
        "  count=0\n",
        "  for i in nums:\n",
        "    sum+=i\n",
        "    count=count+1\n",
        "  average = sum / count\n",
        "  return average\n",
        "nums=[1,2,3,4,5,6,7,8,9,10]\n",
        "average = calc_avg(nums)\n",
        "print(\"The average = \", average)"
      ]
    },
    {
      "cell_type": "markdown",
      "metadata": {
        "id": "zdGebYSaVc-9"
      },
      "source": [
        "# Finding the Longest Word in a List"
      ]
    },
    {
      "cell_type": "code",
      "source": [
        "def find_longest(lis):\n",
        "  mx=\"\"\n",
        "  for i in lis:\n",
        "    if len(i)>len(mx):\n",
        "      mx=i\n",
        "  return mx\n",
        "lis=[\"Ali\",\"Nemo\",\"Zezee\",\"Mariam\",\"Ahmed\"]\n",
        "longestWord = find_longest(lis)\n",
        "print(\"The longest word in the list is: \",longestWord)"
      ],
      "metadata": {
        "colab": {
          "base_uri": "https://localhost:8080/"
        },
        "id": "7keMQwHYA5Dt",
        "outputId": "91f53ea3-b443-40da-ef94-b67f81c251e9"
      },
      "execution_count": 9,
      "outputs": [
        {
          "output_type": "stream",
          "name": "stdout",
          "text": [
            "The longest word in the list is:  Mariam\n"
          ]
        }
      ]
    },
    {
      "cell_type": "markdown",
      "metadata": {
        "id": "gdueyLjOVc-9"
      },
      "source": [
        "# Checking if a Number is Prime"
      ]
    },
    {
      "cell_type": "code",
      "source": [
        "def prime(number):\n",
        "  if num<2:\n",
        "    return False\n",
        "  for i in range(2,int(num/2)+1):\n",
        "    if num%2==0:\n",
        "      return False\n",
        "  return True\n",
        "num = 17\n",
        "if prime(num):\n",
        "  print(\"The number \" f\"{num} is a prime number\")\n",
        "else:\n",
        "  print(\"The number \" f\"{num} is not a prime number\")"
      ],
      "metadata": {
        "colab": {
          "base_uri": "https://localhost:8080/"
        },
        "id": "IVofDKLMBOWg",
        "outputId": "4e66d691-456f-4b09-bdbe-f523cea7ef12"
      },
      "execution_count": 8,
      "outputs": [
        {
          "output_type": "stream",
          "name": "stdout",
          "text": [
            "The number 17 is a prime number\n"
          ]
        }
      ]
    },
    {
      "cell_type": "markdown",
      "metadata": {
        "id": "J-PG6hlfVc-9"
      },
      "source": [
        "# Converting Temperature Units"
      ]
    },
    {
      "cell_type": "code",
      "source": [
        "def celsius_to_fahrenheit(celsius):\n",
        "    fahrenheit = (celsius * 9 / 5) + 32\n",
        "    return fahrenheit\n",
        "\n",
        "def fahrenheit_to_celsius(fahrenheit):\n",
        "    celsius = (fahrenheit - 32) * 5 / 9\n",
        "    return celsius\n",
        "\n",
        "c=37\n",
        "print(celsius_to_fahrenheit(c))\n",
        "\n",
        "f=98.6\n",
        "print(fahrenheit_to_celsius(f))"
      ],
      "metadata": {
        "colab": {
          "base_uri": "https://localhost:8080/"
        },
        "id": "wO8F4EMvWNiY",
        "outputId": "8db46024-3009-425a-ac2b-be77a3a0a496"
      },
      "execution_count": 2,
      "outputs": [
        {
          "output_type": "stream",
          "name": "stdout",
          "text": [
            "98.6\n",
            "37.0\n"
          ]
        }
      ]
    },
    {
      "cell_type": "markdown",
      "metadata": {
        "id": "eGHbvsA0Vc-9"
      },
      "source": [
        "# Generating a List of Squares Using List Comprehension and Functions"
      ]
    },
    {
      "cell_type": "code",
      "source": [
        "squares_list=[]\n",
        "def generat_squares_list(num):\n",
        "  for i in range(1,num+1):\n",
        "    squares_list.append(i*i)\n",
        "  return squares_list\n",
        "\n",
        "n=int(input(\"Enter a number: \"))\n",
        "print(generat_squares_list(n))"
      ],
      "metadata": {
        "colab": {
          "base_uri": "https://localhost:8080/"
        },
        "id": "qQSBx43sWQrq",
        "outputId": "811f19f1-b384-47fe-8dac-8d1a8cde49f4"
      },
      "execution_count": 7,
      "outputs": [
        {
          "output_type": "stream",
          "name": "stdout",
          "text": [
            "Enter a number: 5\n",
            "[1, 4, 9, 16, 25]\n"
          ]
        }
      ]
    },
    {
      "cell_type": "markdown",
      "metadata": {
        "id": "IlF03KRcVc-9"
      },
      "source": [
        "# Converting a List of Strings to Uppercase"
      ]
    },
    {
      "cell_type": "code",
      "source": [
        "def to_uppercase(string_list):\n",
        "  upperList=[]\n",
        "  for string in string_list:\n",
        "    upperString=\"\"\n",
        "    for char in string:\n",
        "      upperChar=chr(ord(char)-32)\n",
        "      upperString+=upperChar\n",
        "    upperList.append(upperString)\n",
        "  return upperList\n",
        "strings=[\"mariam\",\"zeze\",\"semba\",\"lolo\"]\n",
        "print(to_uppercase(strings))"
      ],
      "metadata": {
        "colab": {
          "base_uri": "https://localhost:8080/"
        },
        "id": "_fgHkjeoWanE",
        "outputId": "dcf65a5a-c0f2-4294-cd27-52561fbffdda"
      },
      "execution_count": 14,
      "outputs": [
        {
          "output_type": "stream",
          "name": "stdout",
          "text": [
            "['MARIAM', 'ZEZE', 'SEMBA', 'LOLO']\n"
          ]
        }
      ]
    },
    {
      "cell_type": "markdown",
      "metadata": {
        "id": "EXzeMHSgVc--"
      },
      "source": [
        "# Calculating the Total Price Including Tax\n"
      ]
    },
    {
      "cell_type": "code",
      "source": [
        "def calc_total_price(price, tax_rate):\n",
        "  tax_amount = price * tax_rate\n",
        "  total_price = price + tax_amount\n",
        "  return total_price\n",
        "\n",
        "price = float(input(\"Enter the price of the item: \"))\n",
        "tax_rate = float(input(\"Enter the tax rate: \"))\n",
        "total_price = calc_total_price(price, tax_rate)\n",
        "print(f\"The total price including tax is: ${total_price:.2f}\")"
      ],
      "metadata": {
        "colab": {
          "base_uri": "https://localhost:8080/"
        },
        "id": "FWue-SkYWd1E",
        "outputId": "e581b1dc-f299-4043-ea23-98dc0eff974a"
      },
      "execution_count": 15,
      "outputs": [
        {
          "output_type": "stream",
          "name": "stdout",
          "text": [
            "Enter the price of the item: 134567\n",
            "Enter the tax rate: 20\n",
            "The total price including tax is: $2825907.00\n"
          ]
        }
      ]
    },
    {
      "cell_type": "markdown",
      "metadata": {
        "id": "C0A8tw7aVc--"
      },
      "source": [
        "# Finding the Minimum and Maximum Values in a List"
      ]
    },
    {
      "cell_type": "code",
      "source": [
        "def min_Num(nums):\n",
        "  mn=nums[0]\n",
        "  for i in nums:\n",
        "    if i<mn:\n",
        "      mn=i\n",
        "  return mn\n",
        "def max_Num(nums):\n",
        "  mx=nums[0]\n",
        "  for i in nums:\n",
        "    if i>mx:\n",
        "      mx=i\n",
        "  return mx\n",
        "nums=[5,4,3,2,1,9,8,7,6]\n",
        "print(f\"The minimum value in the list is: {min_Num(nums)}\")\n",
        "print(f\"The maximum value in the list is: {max_Num(nums)}\")"
      ],
      "metadata": {
        "colab": {
          "base_uri": "https://localhost:8080/"
        },
        "id": "_P8ubVQyWgFF",
        "outputId": "fe29eaab-6ca8-48de-c473-ecc39d1f0122"
      },
      "execution_count": 17,
      "outputs": [
        {
          "output_type": "stream",
          "name": "stdout",
          "text": [
            "The minimum value in the list is: 1\n",
            "The maximum value in the list is: 9\n"
          ]
        }
      ]
    },
    {
      "cell_type": "markdown",
      "metadata": {
        "id": "fel3dMtvVc--"
      },
      "source": [
        "# Checking if a String is a Valid Email Address"
      ]
    },
    {
      "cell_type": "code",
      "source": [
        "def is_valid_email(email):\n",
        "  if len(email) == 0:\n",
        "    return False\n",
        "\n",
        "  at_index = email.find('@')\n",
        "  if at_index == -1:\n",
        "    return False\n",
        "\n",
        "  dot_index = email.find('.', at_index)\n",
        "  if dot_index == -1:\n",
        "    return False\n",
        "\n",
        "  for i in range(at_index):\n",
        "    char = email[i]\n",
        "    if not (char.isalnum() or char == '_' or char == '.' or char == '-'):\n",
        "      return False\n",
        "\n",
        "  for i in range(at_index + 1, dot_index):\n",
        "    char = email[i]\n",
        "    if not (char.isalnum() or char == '-'):\n",
        "      return False\n",
        "\n",
        "  for i in range(dot_index + 1, len(email)):\n",
        "    char = email[i]\n",
        "    if not char.isalnum():\n",
        "      return False\n",
        "\n",
        "  return True\n",
        "\n",
        "email = input(\"Enter an email: \")\n",
        "if is_valid_email(email):\n",
        "  print(\"Valid email address\")\n",
        "else:\n",
        "  print(\"Invalid email address\")"
      ],
      "metadata": {
        "colab": {
          "base_uri": "https://localhost:8080/"
        },
        "id": "DmJm0RvvWjAi",
        "outputId": "ac0c5153-a839-42bd-be88-3fce71901875"
      },
      "execution_count": 22,
      "outputs": [
        {
          "output_type": "stream",
          "name": "stdout",
          "text": [
            "Enter an email: maria2@gmail.com\n",
            "Valid email address\n"
          ]
        }
      ]
    },
    {
      "cell_type": "markdown",
      "metadata": {
        "id": "LH0mi5kWVc--"
      },
      "source": [
        "# Counting the Frequency of Each Character in a String"
      ]
    },
    {
      "cell_type": "code",
      "source": [
        "def char_freq(string):\n",
        "    char_freq = {}\n",
        "    for char in string:\n",
        "        if char in char_freq:\n",
        "            char_freq[char] += 1\n",
        "        else:\n",
        "            char_freq[char] = 1\n",
        "    return char_freq\n",
        "\n",
        "string = input(\"Enter a string: \")\n",
        "frequency_dic = char_freq(string)\n",
        "for char, frq in frequency_dic.items():\n",
        "    print(f\"{char} appears {frq} times\")"
      ],
      "metadata": {
        "colab": {
          "base_uri": "https://localhost:8080/"
        },
        "id": "i3BHP3ITWllF",
        "outputId": "32179f1c-00a0-40fb-ccdc-d1118d4ad2a2"
      },
      "execution_count": 27,
      "outputs": [
        {
          "output_type": "stream",
          "name": "stdout",
          "text": [
            "Enter a string: zeze\n",
            "z appears 2 times\n",
            "e appears 2 times\n"
          ]
        }
      ]
    }
  ]
}